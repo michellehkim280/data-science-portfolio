{
  "nbformat": 4,
  "nbformat_minor": 0,
  "metadata": {
    "colab": {
      "provenance": []
    },
    "kernelspec": {
      "name": "python3",
      "display_name": "Python 3"
    },
    "language_info": {
      "name": "python"
    }
  },
  "cells": [
    {
      "cell_type": "markdown",
      "source": [
        "All of the code below is for the intial EDA that was conducted before analysis/modeling. The graphs helped to give us a baseline understanding of the datasets. In addition, we conducted a paired-t test at the end comparing the means of 2018 and 2021 to see if there's a significant different between the pre and post COVID years."
      ],
      "metadata": {
        "id": "j1AITVYLXxk-"
      }
    },
    {
      "cell_type": "code",
      "execution_count": null,
      "metadata": {
        "id": "RNan9JF7nVGx"
      },
      "outputs": [],
      "source": [
        "# Creating time series graph of vaccine coverage over time, including all years of the dataset\n",
        "\n",
        "# Importing libraries\n",
        "import pandas as pd\n",
        "import matplotlib.pyplot as plt\n",
        "\n",
        "# Reading file\n",
        "df = pd.read_csv('Vaccination_coverage.csv')\n",
        "\n",
        "# Convert 'Date' column to datetime objects\n",
        "df['Date'] = pd.to_datetime(df['Date'])\n",
        "\n",
        "# Creating the plot\n",
        "plt.plot(df['Date'], df['Estimate (%)'])\n",
        "plt.xlabel('Date')\n",
        "plt.ylabel('Vaccine Coverage Estimate')\n",
        "plt.title('Vaccine Coverage Over Time')\n",
        "plt.grid(True)\n",
        "plt.show()"
      ]
    },
    {
      "cell_type": "code",
      "source": [
        "# Creating time series graph of vaccine coverage, looking at just 2018 (pre-covid)\n",
        "\n",
        "# Importing libraries\n",
        "import pandas as pd\n",
        "import matplotlib.pyplot as plt\n",
        "\n",
        "# Reading file\n",
        "df = pd.read_csv('Vaccination_coverage.csv')\n",
        "\n",
        "# Converting 'Date' column to datetime objects\n",
        "df['Date'] = pd.to_datetime(df['Date'])\n",
        "\n",
        "# Filter data for 2018\n",
        "df_2018 = df[df['Date'].dt.year == 2018]\n",
        "\n",
        "# Creating the plot\n",
        "plt.plot(df_2018['Date'], df_2018['Estimate (%)'])\n",
        "plt.xlabel('Date')\n",
        "plt.ylabel('Vaccine Coverage Estimate')\n",
        "plt.title('Vaccine Coverage Over Time (2018)')\n",
        "plt.grid(True)\n",
        "plt.show()"
      ],
      "metadata": {
        "id": "QLCoZDvwYCBX"
      },
      "execution_count": null,
      "outputs": []
    },
    {
      "cell_type": "code",
      "source": [
        "# Creating time series graph of vaccine coverage, looking at just 2021 (post-covid)\n",
        "\n",
        "# Importing libraries\n",
        "import pandas as pd\n",
        "import matplotlib.pyplot as plt\n",
        "\n",
        "# Reading file\n",
        "df = pd.read_csv('Vaccination_coverage.csv')\n",
        "\n",
        "# Convert 'Date' column to datetime objects\n",
        "df['Date'] = pd.to_datetime(df['Date'])\n",
        "\n",
        "# Filter data for 2021\n",
        "df_2021 = df[df['Date'].dt.year == 2021]\n",
        "\n",
        "# Creating the plot\n",
        "plt.plot(df_2021['Date'], df_2021['Estimate (%)'])\n",
        "plt.xlabel('Date')\n",
        "plt.ylabel('Vaccine Coverage Estimate')\n",
        "plt.title('Vaccine Coverage Over Time (2021)')\n",
        "plt.grid(True)\n",
        "plt.show()"
      ],
      "metadata": {
        "id": "E7-alsiz2c5w"
      },
      "execution_count": null,
      "outputs": []
    },
    {
      "cell_type": "code",
      "source": [
        "# Conducting paired t-testing  of the vaccine coverage in 2018 and 2022\n",
        "\n",
        "# Importing libraries\n",
        "import pandas as pd\n",
        "from scipy import stats\n",
        "\n",
        "# Reading csv file\n",
        "df = pd.read_csv('Vaccination_and_Cases.csv')\n",
        "\n",
        "# Ensure the date column is in datetime format\n",
        "df['date'] = pd.to_datetime(df['Date'])  # Replace 'date_column' with your actual date column name\n",
        "\n",
        "# Filter the data for 2018 and 2022\n",
        "coverage_2018 = df[df['date'].dt.year == 2018]['Estimate (%)']\n",
        "coverage_2022 = df[df['date'].dt.year == 2021]['Estimate (%)']\n",
        "\n",
        "# Converting the estimate column to numeric\n",
        "coverage_2018 = pd.to_numeric(coverage_2018, errors='coerce')\n",
        "coverage_2021 = pd.to_numeric(coverage_2021, errors='coerce')\n",
        "\n",
        "# Dropping na values\n",
        "coverage_2018 = coverage_2018.dropna()\n",
        "coverage_2021 = coverage_2021.dropna()\n",
        "\n",
        "# Paired t-test\n",
        "t_statistic, p_value = stats.ttest_rel(coverage_2018, coverage_2021)\n",
        "\n",
        "# Printing the results\n",
        "print(\"T-statistic:\", t_statistic)\n",
        "print(\"P-value:\", p_value)\n",
        "\n",
        "# Mean flu vaccination coverage for each year\n",
        "mean_2018 = coverage_2018.mean()\n",
        "mean_2021 = coverage_2021.mean()\n",
        "\n",
        "print(f\"Mean flu vaccination coverage in 2018: {mean_2018}%\")\n",
        "print(f\"Mean flu vaccination coverage in 2021: {mean_2021}%\")\n"
      ],
      "metadata": {
        "id": "k7gcBTLFoTCM"
      },
      "execution_count": null,
      "outputs": []
    }
  ]
}